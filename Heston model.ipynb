{
  "nbformat": 4,
  "nbformat_minor": 0,
  "metadata": {
    "colab": {
      "provenance": [],
      "authorship_tag": "ABX9TyNX41KxM7OrEd1/3GDw7LTH",
      "include_colab_link": true
    },
    "kernelspec": {
      "name": "python3",
      "display_name": "Python 3"
    },
    "language_info": {
      "name": "python"
    }
  },
  "cells": [
    {
      "cell_type": "markdown",
      "metadata": {
        "id": "view-in-github",
        "colab_type": "text"
      },
      "source": [
        "<a href=\"https://colab.research.google.com/github/parkminhyung/R-code-for-finance/blob/master/%08Heston%20model.ipynb\" target=\"_parent\"><img src=\"https://colab.research.google.com/assets/colab-badge.svg\" alt=\"Open In Colab\"/></a>"
      ]
    },
    {
      "cell_type": "markdown",
      "source": [
        "# Heston model"
      ],
      "metadata": {
        "id": "u64Zq-NcbDh5"
      }
    },
    {
      "cell_type": "markdown",
      "source": [
        "## What is the Heston model?\n",
        "\n",
        "The Heston model, introduced in 1993 by Steven Heston, is a financial model used to price options where the underlying asset's volatility is not constant but follows a stochastic process.\n",
        "\n",
        " Unlike the Black-Scholes model, the Heston model assumes that both the asset's price and its volatility follow stochastic differential equations.\n",
        "\n",
        "This allows the model to capture the **\"volatility smile**,\" where implied volatility varies with different strike prices.\n",
        "\n",
        "The model's ability to accurately reflect asset price dynamics and volatility surfaces makes it a standard in equity and foreign exchange markets.\n",
        "\n",
        "<br>\n",
        "\n",
        "> **What is Volatility smile**\n",
        "\n",
        "Option pricing is complex due to various external factors like time to maturity, strike price, and implied volatility of the underlying asset.\n",
        "\n",
        " These factors contribute to the volatility smile, where implied volatility is higher for in-the-money (ITM) and out-of-the-money (OTM) options compared to at-the-money (ATM) options.\n",
        "\n",
        " This smile occurs because there is generally more demand for ITM and OTM options, leading to higher implied volatility.\n",
        "\n",
        " Advanced models beyond Black-Scholes tend to overprice OTM options to account for the higher risk.\n",
        "\n",
        "As a result, ATM options usually have lower implied volatility, making call options more attractive to write than put options for money managers."
      ],
      "metadata": {
        "id": "AMszl06fbOAG"
      }
    },
    {
      "cell_type": "markdown",
      "source": [
        "## Heston model parameters and equation\n",
        "\n",
        "> **Heston model parameters and equation**\n",
        "\n",
        "The Heston Model, which is utilized for option pricing, relies on stochastic differential equations (SDEs) as its fundamental concepts.\n",
        "\n",
        "To calculate the underlying asset price, the model uses equations as below:\n",
        "\n",
        "<br>\n",
        "$$\n",
        "dS_t = rS_tdt + \\sqrt(V_t)S_tdW_{1t} \\\\\n",
        "\\\\\n",
        "dV_t = k(\\theta-V_t)dt + \\sigma\\sqrt(V_t)dW_{2t}\n",
        "$$\n",
        "\n",
        "</br>\n",
        "\n",
        "*where*,\n",
        "\n",
        "- **W<sub>1t</sub>** : the Brownian motion of the asset price\n",
        "- **W<sub>2t</sub>** : the Brownian motion of the asset's price variance\n",
        "- **ρ** : the correlation coefficient for W<sub>1t</sub> and W<sub>2t</sub>\n",
        "- **S<sub>t</sub>** : the price of specific asset at time t\n",
        "- **√V<sub>t</sub>** : the volatility of the asset price\n",
        "- **σ** : the volatility of the volatility\n",
        "- **r** : risk-free interest rate\n",
        "- **θ** : long-term price variance\n",
        "- **k** : the rate of reversion to the long-term price variance\n",
        "- **dt** : the indefinitely small positive time increment\n",
        "\n",
        "<br>\n",
        "\n",
        "> **Equ1 : Stock price Dynamics (logarithmic price movement of underlying asset)**\n",
        "\n",
        "<br>\n",
        "$$\n",
        "dS_t = \\mu S_tdt + \\sqrt(V_t)S_tdW_{1t} \\\\\n",
        "\\\\\n",
        "\\rightarrow \\, S_t = S_{t-1}(1+ \\mu*dt + \\sqrt(V_{t-1})*dW_{1{(t-1)}})\n",
        "$$\n",
        "</br>\n",
        "\n",
        "*where*,\n",
        "\n",
        "- **µ** : Coefficient, representing the expected return of the asset per unit time.\n",
        "- **µS<sub>t</sub>dt (Expected Return) :** the average amount of the asset price, which can direct the movement of asset price.\n",
        "\n",
        "- **√v<sub>t</sub>S<sub>t</sub>dW<sub>1t</sub> (random Fluctuations) : ** it reflects the random ups and downs of asset price, which can be refered to \"**market noise**\"\n",
        "\n",
        "<br>\n",
        "\n",
        "> **Equ2 : Volatility Dynamics**\n",
        "\n",
        "<br>\n",
        "$$\n",
        "dV_t = k(\\theta-V_t)dt + \\sigma\\sqrt(V_t)dW_{2t} \\\\\n",
        "\\\\\n",
        "\\rightarrow \\, V_t = V_{t-1}+k*(\\theta-V_{t-1}*dt+\\sigma*\\sqrt(V_{t-1})*dW_{2(t-1)})\n",
        "$$\n",
        "</br>\n",
        "\n",
        "*where,*\n",
        "- **k(θ - v<sub>t</sub>)dt (Mean Reversion) :** \"k\" means \"mean reversion rate\", and θ is long-term average. the higher the k, the stronger the pull and drag back toward \"θ (long-term average)\"  \n",
        "\n",
        "- **σ√ (v<sub>t</sub>)dW<sub>2t</sub> (Random Shocks):** volatility can also exprience \"unexpected fluctuations\", so the \"random shocks\" considers √ (v<sub>t</sub>) (the volatility's current level), and dW<sub>2t</sub> (random shock factor)\n"
      ],
      "metadata": {
        "id": "1d3BfxUpbcxV"
      }
    },
    {
      "cell_type": "markdown",
      "source": [
        "> **Example i : Stock price Dynamics**"
      ],
      "metadata": {
        "id": "q7v_8XQ8c0wg"
      }
    },
    {
      "cell_type": "markdown",
      "source": [
        "**# Python**"
      ],
      "metadata": {
        "id": "mUQ4fK1SdIf1"
      }
    },
    {
      "cell_type": "code",
      "execution_count": null,
      "metadata": {
        "id": "mGQjaGlQbAaX"
      },
      "outputs": [],
      "source": [
        "import numpy as np\n",
        "import matplotlib.pyplot as plt\n",
        "\n",
        "# Parameters of both equations\n",
        "T = 1.0 # Total time\n",
        "N = 1000 # Number of time steps\n",
        "dt = T / N # Time step size\n",
        "t = np.linspace(0.0, T, N+1) # Time vector\n",
        "mu = 0.1 # Expected return\n",
        "v0 = 0.1 # Initial volatility\n",
        "kappa = 3.0 # Mean reversion rate\n",
        "theta = 0.2 # Long-term average volatility\n",
        "sigma = 0.1 # Volatility\n",
        "\n",
        "dW1 = np.random.randn(N) * np.sqrt(dt)\n",
        "dW2 = np.random.randn(N) * np.sqrt(dt)\n",
        "\n",
        "S = np.zeros(N+1)\n",
        "v = np.zeros(N+1)\n",
        "S[0] = 100.0 # Initial stock price\n",
        "v[0] = v0 # Initial volatility\n",
        "\n",
        "# Euler-Maruyama method to solve the stochastic differential equation for stock price dynamics\n",
        "for i in range(1, N+1):\n",
        "    v[i] = v[i-1] + kappa * (theta - v[i-1]) * dt + sigma * np.sqrt(v[i-1]) * dW2[i-1]\n",
        "    S[i] = S[i-1] * (1 + mu * dt + np.sqrt(v[i-1]) * dW1[i-1])\n",
        "\n",
        "# Plot the results\n",
        "plt.figure(figsize=(10, 6))\n",
        "plt.subplot(2, 1, 1)\n",
        "plt.plot(t, S)\n",
        "plt.title('Stock Price Dynamics')\n",
        "plt.xlabel('Time')\n",
        "plt.ylabel('Stock Price')\n",
        "plt.grid(True)"
      ]
    },
    {
      "cell_type": "markdown",
      "source": [
        "**# R**"
      ],
      "metadata": {
        "id": "NyDzZs2PdCPQ"
      }
    },
    {
      "cell_type": "code",
      "source": [
        "pacman::p_load(plotly)\n",
        "\n",
        "T = 1.0 # Total time\n",
        "N = 1000 # Number of time steps\n",
        "dt = T / N # Time step size\n",
        "t = seq(0,T,by=dt) # Time vector\n",
        "mu = 0.1 # Expected return\n",
        "v0 = 0.1 # Initial volatility\n",
        "kappa = 3.0 # Mean reversion rate\n",
        "theta = 0.2 # Long-term average volatility\n",
        "sigma = 0.1 # Volatility\n",
        "\n",
        "dW1 = rnorm(N)*sqrt(dt)\n",
        "dW2 = rnorm(N)*sqrt(dt)\n",
        "\n",
        "#initial value for stock price and volatiliy\n",
        "S = rep(0,N+1)\n",
        "v = rep(0,N+1)\n",
        "\n",
        "S[1] = 100\n",
        "v[1] = v0\n",
        "\n",
        "for (i in 2:(N+1)) {\n",
        "  S[i] = S[i-1]*(1+mu * dt+sqrt(v[i-1]) * dW1[i-1])\n",
        "  v[i] = v[i-1] + kappa * (theta - v[i-1]) * dt + sigma * sqrt(v[i-1]) * dW2[i-1]\n",
        "}\n",
        "\n",
        "\n",
        "#Visualization\n",
        "\n",
        "sdvd = data.frame(\n",
        "  stock = S,\n",
        "  volt = v\n",
        ")\n",
        "\n",
        "p1 = sdvd %>%\n",
        "  plot_ly() %>%\n",
        "  add_lines(\n",
        "    x=1:nrow(sdvd),\n",
        "    y=~stock,\n",
        "    name = \"stock dynamic\"\n",
        "  )\n",
        "\n",
        "p2 = sdvd %>%\n",
        "  plot_ly() %>%\n",
        "  add_lines(\n",
        "    x=1:nrow(sdvd),\n",
        "    y=~volt,\n",
        "    name = \"volatility dynamic\"\n",
        "  )\n",
        "\n",
        "subplot(p1,p2,nrows=2)"
      ],
      "metadata": {
        "id": "M7UXUfXBc_IY"
      },
      "execution_count": null,
      "outputs": []
    },
    {
      "cell_type": "markdown",
      "source": [
        "## Steps for pricing Europe options using Heston model\n",
        "\n",
        "> **Step i. Define model parameters (Heston characteristic model)**\n",
        "\n",
        "> **Step ii. Calculate the Heston characteristic function**\n",
        "\n",
        " The Heston model's characteristic function is a key mathematical tool used in option pricing, describing the joint distribution of the underlying asset price and its stochastic volatility at expiration.\n",
        "\n",
        "<br>\n",
        "\n",
        "$$\n",
        "\\phi(\\mu,S_0,K,r,T,k,\\theta,\\rho,v_0) \\\\\n",
        "\\\\\n",
        "= exp(C(\\mu,S_0,K,r,T,k,\\theta,\\rho,v_0))\\\\\n",
        "\\\\\n",
        "= D((\\mu,S_0,K,r,T,k,\\theta,\\rho,v_0)v_0 + iulog(S_0))\n",
        "$$\n",
        "</br>\n",
        "\n",
        "*where*,\n",
        "\n",
        "- **µ** : the integration variable\n",
        "- **S<sub>0</sub>** : the initial stock price\n",
        "- **K** : the strike price\n",
        "- **r** : risk-free interest rate\n",
        "- **T** : the time to maturity\n",
        "- **k(kappa)** : the rate of reversion to the long-term price variance\n",
        "- **σ** : the volatility of the volatility\n",
        "- **ρ** : the correlation coefficient between <u>the asset price and its volatility</u>\n",
        "- **v<sub>0</sub>** : the initial volatility\n"
      ],
      "metadata": {
        "id": "hz4fneZqdWiT"
      }
    },
    {
      "cell_type": "markdown",
      "source": [
        "**# Python**"
      ],
      "metadata": {
        "id": "g8Hg9avyeUyb"
      }
    },
    {
      "cell_type": "code",
      "source": [
        "# Define characteristic functions\n",
        "def heston_characteristic_function(u, S0, K, r, T, kappa, theta, sigma, rho, v0):\n",
        "   xi = kappa - rho * sigma * 1j * u\n",
        "   d = np.sqrt((rho * sigma * 1j * u - xi)**2 - sigma**2 * (-u * 1j - u**2))\n",
        "   g = (xi - rho * sigma * 1j * u - d) / (xi - rho * sigma * 1j * u + d)\n",
        "   C = r * 1j * u * T + (kappa * theta) / sigma**2 * ((xi - rho * sigma * 1j * u - d) * T - 2 * np.log((1 - g * np.exp(-d * T)) / (1 - g)))\n",
        "   D = (xi - rho * sigma * 1j * u - d) / sigma**2 * ((1 - np.exp(-d * T)) / (1 - g * np.exp(-d * T)))\n",
        "   return np.exp(C + D * v0 + 1j * u * np.log(S0))"
      ],
      "metadata": {
        "id": "GHcJjuc9eSuB"
      },
      "execution_count": null,
      "outputs": []
    },
    {
      "cell_type": "markdown",
      "source": [
        "**# R**"
      ],
      "metadata": {
        "id": "NHW0BGHheZvC"
      }
    },
    {
      "cell_type": "code",
      "source": [
        "#Heston Chracteristic model\n",
        "  heston_chr <- function(u, S0, K, r, T, kappa, theta, sigma, rho, v0) {\n",
        "    xi <- kappa - rho * sigma * 1i * u\n",
        "    d <- sqrt((rho * sigma * 1i * u - xi)^2 - sigma^2 * (-1i * u - u^2))\n",
        "    g <- (xi - rho * sigma * 1i * u - d) / (xi - rho * sigma * 1i * u + d)\n",
        "\n",
        "    C <- r * 1i * u * T + (kappa * theta) / sigma^2 * ((xi - rho * sigma * 1i * u - d) * T - 2 * log((1 - g * exp(-d * T)) / (1 - g)))\n",
        "    D <- (xi - rho * sigma * 1i * u - d) / sigma^2 * ((1 - exp(-d * T)) / (1 - g * exp(-d * T)))\n",
        "\n",
        "    value <- exp(C + D * v0 + 1i * u * log(S0))\n",
        "    return(value)\n",
        "  }"
      ],
      "metadata": {
        "id": "WvgNuPzWeb6Q"
      },
      "execution_count": null,
      "outputs": []
    },
    {
      "cell_type": "markdown",
      "source": [
        "> **Step iii. Calculate the European option price (Fourier Inversion)**\n",
        "\n",
        " Fourier inversion is a mathematical method used to compute option prices, particularly in models like the Heston model.\n",
        "\n",
        "It involves integrating the characteristic function over a range of frequencies to obtain the option price.\n",
        "\n",
        "<br>\n",
        "$$\n",
        "C(K) = e^{-rT} (\\frac{1}2S_0 - \\frac{1}{\\pi} \\int_0^\\infty \\ \\frac{e^{-iu\\ln(K)} \\phi(u)}{iu}du)\n",
        "\\\\\n",
        "\\\\\n",
        "P(K) = e^{-rT} (\\frac{1}{\\pi} \\int_0^\\infty \\ \\frac{e^{-iu\\ln(K)} \\phi(u)}{iu}du) - S_0+Ke^{-rt}\n",
        "$$\n",
        "</br>\n",
        "\n",
        "*Where,*\n",
        "\n",
        "- **C(K)** : European call option price at the strike price \"K\"\n",
        "- **P(K)** : European put option price at the strike price \"K\"\n",
        "- **S<sub>0</sub>** : the initial stock price\n",
        "- **K** : the strike price\n",
        "- **r** : risk-free interest rate\n",
        "- **T** : the time to maturity\n",
        "- **ϕ (u)** : Characteristic function of the Heston model\n",
        "- **e<sup>−iuln(K)</sup>** : Exponential term in the integrand\n",
        "- **du** : Integration variable\n",
        "\n"
      ],
      "metadata": {
        "id": "k-EQJOtyeh05"
      }
    },
    {
      "cell_type": "markdown",
      "source": [
        "**# Python**"
      ],
      "metadata": {
        "id": "_0dJj44teyWG"
      }
    },
    {
      "cell_type": "code",
      "source": [
        "# Define functions to compute call and put options prices\n",
        "def heston_call_price(S0, K, r, T, kappa, theta, sigma, rho, v0):\n",
        "   integrand = lambda u: np.real(np.exp(-1j * u * np.log(K)) / (1j * u) * heston_characteristic_function(u - 1j, S0, K, r, T, kappa, theta, sigma, rho, v0))\n",
        "   integral, _ = quad(integrand, 0, np.inf)\n",
        "   return np.exp(-r * T) * 0.5 * S0 - np.exp(-r * T) / np.pi * integral\n",
        "\n",
        "\n",
        "def heston_put_price(S0, K, r, T, kappa, theta, sigma, rho, v0):\n",
        "   integrand = lambda u: np.real(np.exp(-1j * u * np.log(K)) / (1j * u) * heston_characteristic_function(u - 1j, S0, K, r, T, kappa, theta, sigma, rho, v0))\n",
        "   integral, _ = quad(integrand, 0, np.inf)\n",
        "   return np.exp(-r * T) / np.pi * integral - S0 + K * np.exp(-r * T)"
      ],
      "metadata": {
        "id": "N3s5vfqheghb"
      },
      "execution_count": null,
      "outputs": []
    },
    {
      "cell_type": "markdown",
      "source": [
        "**# R**"
      ],
      "metadata": {
        "id": "zAOD1Xfpe2zT"
      }
    },
    {
      "cell_type": "code",
      "source": [
        "heston_call = function(S0, K, r, T, kappa, theta, sigma, rho, v0){\n",
        "\n",
        "  #Heston Chracteristic model\n",
        "  heston_chr <- function(u, S0, K, r, T, kappa, theta, sigma, rho, v0) {\n",
        "    xi <- kappa - rho * sigma * 1i * u\n",
        "    d <- sqrt((rho * sigma * 1i * u - xi)^2 - sigma^2 * (-1i * u - u^2))\n",
        "    g <- (xi - rho * sigma * 1i * u - d) / (xi - rho * sigma * 1i * u + d)\n",
        "\n",
        "    C <- r * 1i * u * T + (kappa * theta) / sigma^2 * ((xi - rho * sigma * 1i * u - d) * T - 2 * log((1 - g * exp(-d * T)) / (1 - g)))\n",
        "    D <- (xi - rho * sigma * 1i * u - d) / sigma^2 * ((1 - exp(-d * T)) / (1 - g * exp(-d * T)))\n",
        "\n",
        "    value <- exp(C + D * v0 + 1i * u * log(S0))\n",
        "    return(value)\n",
        "  }\n",
        "  #Integrate\n",
        "  integral <- function(u, K, S0, r, T, kappa, theta, sigma, rho, v0) {\n",
        "    Re((exp(-1i * u * log(K)) * heston_chr(u - 1i, S0, K, r, T, kappa, theta, sigma, rho, v0)) / (1i * u))\n",
        "  }\n",
        "\n",
        "  #Fourier Inversion Option Pricing model\n",
        "  value = exp(-r*T)*(.5*S0-(1/pi)*integrate(integral, lower = 0, upper = Inf, K = K, S0 = S0, r = r, T = T, kappa = kappa, theta = theta, sigma = sigma, rho = rho, v0 = v0)$value)\n",
        "  return(value)\n",
        "}\n",
        "\n",
        "heston_put = function(S0, K, r, T, kappa, theta, sigma, rho, v0){\n",
        "\n",
        "  #Heston Chracteristic model\n",
        "  heston_chr <- function(u, S0, K, r, T, kappa, theta, sigma, rho, v0) {\n",
        "    xi <- kappa - rho * sigma * 1i * u\n",
        "    d <- sqrt((rho * sigma * 1i * u - xi)^2 - sigma^2 * (-1i * u - u^2))\n",
        "    g <- (xi - rho * sigma * 1i * u - d) / (xi - rho * sigma * 1i * u + d)\n",
        "\n",
        "    C <- r * 1i * u * T + (kappa * theta) / sigma^2 * ((xi - rho * sigma * 1i * u - d) * T - 2 * log((1 - g * exp(-d * T)) / (1 - g)))\n",
        "    D <- (xi - rho * sigma * 1i * u - d) / sigma^2 * ((1 - exp(-d * T)) / (1 - g * exp(-d * T)))\n",
        "\n",
        "    value <- exp(C + D * v0 + 1i * u * log(S0))\n",
        "    return(value)\n",
        "  }\n",
        "\n",
        "  #Integrate\n",
        "  integral <- function(u, K, S0, r, T, kappa, theta, sigma, rho, v0) {\n",
        "    Re((exp(-1i * u * log(K)) * heston_chr(u - 1i, S0, K, r, T, kappa, theta, sigma, rho, v0)) / (1i * u))\n",
        "  }\n",
        "\n",
        "  #Fourier Inversion Option Pricing model\n",
        "  value = exp(-r*T)*((1/pi)*integrate(integral, lower = 0, upper = Inf, K = K, S0 = S0, r = r, T = T, kappa = kappa, theta = theta, sigma = sigma, rho = rho, v0 = v0)$value) -S0+K*exp(-r*T)\n",
        "  return(value)\n",
        "}\n"
      ],
      "metadata": {
        "id": "GuYot3K6e2aF"
      },
      "execution_count": null,
      "outputs": []
    },
    {
      "cell_type": "markdown",
      "source": [
        "> **Example**"
      ],
      "metadata": {
        "id": "34_KQ2fPfMUb"
      }
    },
    {
      "cell_type": "markdown",
      "source": [
        "**# Python**"
      ],
      "metadata": {
        "id": "9N-_72-OfUyv"
      }
    },
    {
      "cell_type": "code",
      "source": [
        "call_price = heston_call_price(S0, K, r, T, kappa, theta, sigma, rho, v0)\n",
        "put_price = heston_put_price(S0, K, r, T, kappa, theta, sigma, rho, v0)\n",
        "\n",
        "print(\"European Call Option Price:\", np.round(call_price, 2))\n",
        "print(\"European Put Option Price:\", np.round(put_price, 2))"
      ],
      "metadata": {
        "id": "-gk4XX4BfP9_"
      },
      "execution_count": null,
      "outputs": []
    },
    {
      "cell_type": "markdown",
      "source": [
        "**# R**"
      ],
      "metadata": {
        "id": "EyXKdlzsfTIs"
      }
    },
    {
      "cell_type": "code",
      "source": [
        "#example : Call option price\n",
        "heston_call(S0, K, r, T, kappa, theta, sigma, rho, v0)\n",
        "#[1] 27.6263\n",
        "\n",
        "# example : Put option price\n",
        "heston_put(S0, K, r, T, kappa, theta, sigma, rho, v0)\n",
        "#[1] 15.05811"
      ],
      "metadata": {
        "id": "ZTSL-a4VfRop"
      },
      "execution_count": null,
      "outputs": []
    }
  ]
}